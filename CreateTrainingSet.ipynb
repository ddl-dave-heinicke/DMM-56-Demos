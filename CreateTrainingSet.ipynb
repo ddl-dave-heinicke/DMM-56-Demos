{
 "cells": [
  {
   "cell_type": "markdown",
   "id": "80cd8e2b-ee0d-4e0c-96b0-8d02f98fe320",
   "metadata": {},
   "source": [
    "# Creating a Training Set\n",
    "\n",
    "This example notebook registers the training dataset used to train the model with your Domino Project.\n",
    "\n",
    "Once a dataset is registered, Domino Model Monitoring can use it as a reference for data drift detection."
   ]
  },
  {
   "cell_type": "code",
   "execution_count": 1,
   "id": "737eb3c2-1342-4b49-8c60-5e6533352511",
   "metadata": {},
   "outputs": [],
   "source": [
    "import domino\n",
    "from domino.training_sets import TrainingSetClient, model\n",
    "import pandas as pd\n",
    "import os"
   ]
  },
  {
   "cell_type": "code",
   "execution_count": 9,
   "id": "74377223-d055-4561-921f-cc053b8beb1e",
   "metadata": {},
   "outputs": [
    {
     "data": {
      "text/html": [
       "<div>\n",
       "<style scoped>\n",
       "    .dataframe tbody tr th:only-of-type {\n",
       "        vertical-align: middle;\n",
       "    }\n",
       "\n",
       "    .dataframe tbody tr th {\n",
       "        vertical-align: top;\n",
       "    }\n",
       "\n",
       "    .dataframe thead th {\n",
       "        text-align: right;\n",
       "    }\n",
       "</style>\n",
       "<table border=\"1\" class=\"dataframe\">\n",
       "  <thead>\n",
       "    <tr style=\"text-align: right;\">\n",
       "      <th></th>\n",
       "      <th>custid</th>\n",
       "      <th>dropperc</th>\n",
       "      <th>mins</th>\n",
       "      <th>consecmonths</th>\n",
       "      <th>income</th>\n",
       "      <th>age</th>\n",
       "      <th>churn_Y</th>\n",
       "    </tr>\n",
       "  </thead>\n",
       "  <tbody>\n",
       "    <tr>\n",
       "      <th>0</th>\n",
       "      <td>844336</td>\n",
       "      <td>0.016364</td>\n",
       "      <td>550</td>\n",
       "      <td>28</td>\n",
       "      <td>89.2</td>\n",
       "      <td>45</td>\n",
       "      <td>0</td>\n",
       "    </tr>\n",
       "    <tr>\n",
       "      <th>1</th>\n",
       "      <td>146041</td>\n",
       "      <td>0.018349</td>\n",
       "      <td>545</td>\n",
       "      <td>33</td>\n",
       "      <td>54.2</td>\n",
       "      <td>43</td>\n",
       "      <td>0</td>\n",
       "    </tr>\n",
       "    <tr>\n",
       "      <th>2</th>\n",
       "      <td>847745</td>\n",
       "      <td>0.018519</td>\n",
       "      <td>378</td>\n",
       "      <td>41</td>\n",
       "      <td>55.3</td>\n",
       "      <td>41</td>\n",
       "      <td>0</td>\n",
       "    </tr>\n",
       "    <tr>\n",
       "      <th>3</th>\n",
       "      <td>285565</td>\n",
       "      <td>0.014493</td>\n",
       "      <td>552</td>\n",
       "      <td>32</td>\n",
       "      <td>66.8</td>\n",
       "      <td>31</td>\n",
       "      <td>0</td>\n",
       "    </tr>\n",
       "    <tr>\n",
       "      <th>4</th>\n",
       "      <td>754611</td>\n",
       "      <td>0.012132</td>\n",
       "      <td>577</td>\n",
       "      <td>4</td>\n",
       "      <td>87.2</td>\n",
       "      <td>43</td>\n",
       "      <td>0</td>\n",
       "    </tr>\n",
       "  </tbody>\n",
       "</table>\n",
       "</div>"
      ],
      "text/plain": [
       "   custid  dropperc  mins  consecmonths  income  age  churn_Y\n",
       "0  844336  0.016364   550            28    89.2   45        0\n",
       "1  146041  0.018349   545            33    54.2   43        0\n",
       "2  847745  0.018519   378            41    55.3   41        0\n",
       "3  285565  0.014493   552            32    66.8   31        0\n",
       "4  754611  0.012132   577             4    87.2   43        0"
      ]
     },
     "execution_count": 9,
     "metadata": {},
     "output_type": "execute_result"
    }
   ],
   "source": [
    "# Path to model's original training dataset\n",
    "path = '/mnt/code/Test&TrainData/churnTrainingData.csv'\n",
    "\n",
    "training_df = pd.read_csv(path)\n",
    "training_df.head()"
   ]
  },
  {
   "cell_type": "code",
   "execution_count": 22,
   "id": "fdeec845-7761-4536-a2c7-8dde7b1d3116",
   "metadata": {},
   "outputs": [],
   "source": [
    "# Sub list of feature neames that will be used in Model Monitoring. \n",
    "# You may not need to monitor every single column in the original dataset for drift.\n",
    "\n",
    "feature_names = [\"custid\", \"dropperc\", \"mins\", \"consecmonths\", \"income\", \"age\", \"churn_Y\"]\n",
    "training_df_subset= training_df[feature_names].copy()"
   ]
  },
  {
   "cell_type": "code",
   "execution_count": 11,
   "id": "c9ff8d15-03bf-4dbe-8b72-89fed621b42c",
   "metadata": {},
   "outputs": [],
   "source": [
    "training_df_subset[\"custid\"] = training_df_subset.index + 1"
   ]
  },
  {
   "cell_type": "code",
   "execution_count": 12,
   "id": "96ca7cc1-c128-4a6e-8f9a-3ac35c536dcd",
   "metadata": {},
   "outputs": [
    {
     "data": {
      "text/html": [
       "<div>\n",
       "<style scoped>\n",
       "    .dataframe tbody tr th:only-of-type {\n",
       "        vertical-align: middle;\n",
       "    }\n",
       "\n",
       "    .dataframe tbody tr th {\n",
       "        vertical-align: top;\n",
       "    }\n",
       "\n",
       "    .dataframe thead th {\n",
       "        text-align: right;\n",
       "    }\n",
       "</style>\n",
       "<table border=\"1\" class=\"dataframe\">\n",
       "  <thead>\n",
       "    <tr style=\"text-align: right;\">\n",
       "      <th></th>\n",
       "      <th>custid</th>\n",
       "      <th>dropperc</th>\n",
       "      <th>mins</th>\n",
       "      <th>consecmonths</th>\n",
       "      <th>income</th>\n",
       "      <th>age</th>\n",
       "      <th>churn_Y</th>\n",
       "    </tr>\n",
       "  </thead>\n",
       "  <tbody>\n",
       "    <tr>\n",
       "      <th>0</th>\n",
       "      <td>1</td>\n",
       "      <td>0.016364</td>\n",
       "      <td>550</td>\n",
       "      <td>28</td>\n",
       "      <td>89.2</td>\n",
       "      <td>45</td>\n",
       "      <td>0</td>\n",
       "    </tr>\n",
       "    <tr>\n",
       "      <th>1</th>\n",
       "      <td>2</td>\n",
       "      <td>0.018349</td>\n",
       "      <td>545</td>\n",
       "      <td>33</td>\n",
       "      <td>54.2</td>\n",
       "      <td>43</td>\n",
       "      <td>0</td>\n",
       "    </tr>\n",
       "    <tr>\n",
       "      <th>2</th>\n",
       "      <td>3</td>\n",
       "      <td>0.018519</td>\n",
       "      <td>378</td>\n",
       "      <td>41</td>\n",
       "      <td>55.3</td>\n",
       "      <td>41</td>\n",
       "      <td>0</td>\n",
       "    </tr>\n",
       "    <tr>\n",
       "      <th>3</th>\n",
       "      <td>4</td>\n",
       "      <td>0.014493</td>\n",
       "      <td>552</td>\n",
       "      <td>32</td>\n",
       "      <td>66.8</td>\n",
       "      <td>31</td>\n",
       "      <td>0</td>\n",
       "    </tr>\n",
       "    <tr>\n",
       "      <th>4</th>\n",
       "      <td>5</td>\n",
       "      <td>0.012132</td>\n",
       "      <td>577</td>\n",
       "      <td>4</td>\n",
       "      <td>87.2</td>\n",
       "      <td>43</td>\n",
       "      <td>0</td>\n",
       "    </tr>\n",
       "  </tbody>\n",
       "</table>\n",
       "</div>"
      ],
      "text/plain": [
       "   custid  dropperc  mins  consecmonths  income  age  churn_Y\n",
       "0       1  0.016364   550            28    89.2   45        0\n",
       "1       2  0.018349   545            33    54.2   43        0\n",
       "2       3  0.018519   378            41    55.3   41        0\n",
       "3       4  0.014493   552            32    66.8   31        0\n",
       "4       5  0.012132   577             4    87.2   43        0"
      ]
     },
     "execution_count": 12,
     "metadata": {},
     "output_type": "execute_result"
    }
   ],
   "source": [
    "training_df_subset.head()"
   ]
  },
  {
   "cell_type": "code",
   "execution_count": 13,
   "id": "ad506f07-a787-4956-b466-238c5f060668",
   "metadata": {},
   "outputs": [
    {
     "name": "stdout",
     "output_type": "stream",
     "text": [
      "TrainingSetVersion customer-churn-DMM-demo-:1\n"
     ]
    }
   ],
   "source": [
    "# Register the TrainingSet version using the TrainingSetClient.\n",
    "\n",
    "tsv = TrainingSetClient.create_training_set_version(\n",
    "    training_set_name=\"customer-churn-DMM-demo-\",\n",
    "    df=training_df_subset,\n",
    "    key_columns=[\"custid\"],\n",
    "    target_columns=[\"churn_Y\"],\n",
    "    exclude_columns=[],\n",
    "    meta={\"DMM_meta_data\": \"0.1\"},\n",
    "    monitoring_meta=model.MonitoringMeta(**{\n",
    "        \"categorical_columns\": [],\n",
    "        \"timestamp_columns\": [],\n",
    "        \"ordinal_columns\": []\n",
    "    }),\n",
    "    project_name=str(os.environ.get('DOMINO_PROJECT_OWNER')+os.environ.get('DOMINO_PROJECT_NAME'))\n",
    ")\n",
    "\n",
    "print(f\"TrainingSetVersion {tsv.training_set_name}:{tsv.number}\")"
   ]
  },
  {
   "cell_type": "code",
   "execution_count": 31,
   "id": "dfb7257c-8048-443d-be5c-98e0303f861f",
   "metadata": {},
   "outputs": [
    {
     "name": "stdout",
     "output_type": "stream",
     "text": [
      "Columns:  ['custid', 'dropperc', 'mins', 'consecmonths', 'income', 'age', 'churn_Y']\n",
      "\n",
      "Data Types:\n",
      "\n",
      " custid            int64\n",
      "dropperc        float64\n",
      "mins              int64\n",
      "consecmonths      int64\n",
      "income          float64\n",
      "age               int64\n",
      "churn_Y           int64\n",
      "dtype: object\n"
     ]
    }
   ],
   "source": [
    "# Check the TrainingSet Columns and Data Types\n",
    "\n",
    "print(\"Columns: \", tsv.all_columns)\n",
    "\n",
    "print(\"\\nData Types:\\n\\n\", tsv.load_raw_pandas().dtypes)"
   ]
  },
  {
   "cell_type": "code",
   "execution_count": 33,
   "id": "313628c2-bc3e-481c-b184-c4850cbc470d",
   "metadata": {},
   "outputs": [
    {
     "name": "stdout",
     "output_type": "stream",
     "text": [
      "[TrainingSetVersion(training_set_name='customer-churn-DMM-demo-', number=1, description=<training_set_api_client.types.Unset object at 0x7fd788c5bfd0>, key_columns=['custid'], target_columns=['churn_Y'], exclude_columns=[], all_columns=['custid', 'dropperc', 'mins', 'consecmonths', 'income', 'age', 'churn_Y'], monitoring_meta=MonitoringMeta(timestamp_columns=[], categorical_columns=[], ordinal_columns=[]), meta={'DMM_meta_data': '0.1'}, path='/trainingset/64d53362612d3a70a8060b0a/64d54028b5c13e02c7ddc5c4/64d54028b5c13e02c7ddc5c5', container_path='64d54028b5c13e02c7ddc5c4/64d54028b5c13e02c7ddc5c5', pending=False)]\n"
     ]
    }
   ],
   "source": [
    "# Review existing TraininSets in your Project\n",
    "\n",
    "versions = TrainingSetClient.list_training_set_versions(\n",
    "    training_set_name=\"customer-churn-DMM-demo-\",\n",
    "    meta={\"DMM_meta_data\": \"0.1\"},\n",
    ")\n",
    "\n",
    "print(versions)"
   ]
  },
  {
   "cell_type": "code",
   "execution_count": null,
   "id": "970ce2db-092d-4520-b95f-22a5c2f3f967",
   "metadata": {},
   "outputs": [],
   "source": []
  }
 ],
 "metadata": {
  "kernelspec": {
   "display_name": "Python 3 (ipykernel)",
   "language": "python",
   "name": "python3"
  },
  "language_info": {
   "codemirror_mode": {
    "name": "ipython",
    "version": 3
   },
   "file_extension": ".py",
   "mimetype": "text/x-python",
   "name": "python",
   "nbconvert_exporter": "python",
   "pygments_lexer": "ipython3",
   "version": "3.8.12"
  }
 },
 "nbformat": 4,
 "nbformat_minor": 5
}
