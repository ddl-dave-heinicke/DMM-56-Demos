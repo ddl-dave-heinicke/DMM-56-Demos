{
 "cells": [
  {
   "cell_type": "markdown",
   "id": "80cd8e2b-ee0d-4e0c-96b0-8d02f98fe320",
   "metadata": {},
   "source": [
    "# Creating a Training Set\n",
    "\n",
    "This example notebook registers the training dataset used to train the model with your Domino Project.\n",
    "\n",
    "Once a dataset is registered, Domino Model Monitoring can use it as a reference for data drift detection."
   ]
  },
  {
   "cell_type": "code",
   "execution_count": 47,
   "id": "737eb3c2-1342-4b49-8c60-5e6533352511",
   "metadata": {},
   "outputs": [],
   "source": [
    "from domino.training_sets import TrainingSetClient, model\n",
    "import pandas as pd\n",
    "import numpy as np\n",
    "import os\n",
    "import random"
   ]
  },
  {
   "cell_type": "code",
   "execution_count": 48,
   "id": "74377223-d055-4561-921f-cc053b8beb1e",
   "metadata": {},
   "outputs": [
    {
     "name": "stdout",
     "output_type": "stream",
     "text": [
      "<class 'pandas.core.frame.DataFrame'>\n",
      "RangeIndex: 398 entries, 0 to 397\n",
      "Data columns (total 6 columns):\n",
      " #   Column        Non-Null Count  Dtype  \n",
      "---  ------        --------------  -----  \n",
      " 0   customer_id   398 non-null    int64  \n",
      " 1   mpg           398 non-null    float64\n",
      " 2   displacement  398 non-null    float64\n",
      " 3   horsepower    398 non-null    float64\n",
      " 4   weight        398 non-null    float64\n",
      " 5   origin        398 non-null    int64  \n",
      "dtypes: float64(4), int64(2)\n",
      "memory usage: 18.8 KB\n"
     ]
    },
    {
     "data": {
      "text/html": [
       "<div>\n",
       "<style scoped>\n",
       "    .dataframe tbody tr th:only-of-type {\n",
       "        vertical-align: middle;\n",
       "    }\n",
       "\n",
       "    .dataframe tbody tr th {\n",
       "        vertical-align: top;\n",
       "    }\n",
       "\n",
       "    .dataframe thead th {\n",
       "        text-align: right;\n",
       "    }\n",
       "</style>\n",
       "<table border=\"1\" class=\"dataframe\">\n",
       "  <thead>\n",
       "    <tr style=\"text-align: right;\">\n",
       "      <th></th>\n",
       "      <th>customer_id</th>\n",
       "      <th>mpg</th>\n",
       "      <th>displacement</th>\n",
       "      <th>horsepower</th>\n",
       "      <th>weight</th>\n",
       "      <th>origin</th>\n",
       "    </tr>\n",
       "  </thead>\n",
       "  <tbody>\n",
       "    <tr>\n",
       "      <th>0</th>\n",
       "      <td>0</td>\n",
       "      <td>18.0</td>\n",
       "      <td>307.0</td>\n",
       "      <td>130.0</td>\n",
       "      <td>3504.0</td>\n",
       "      <td>1.0</td>\n",
       "    </tr>\n",
       "    <tr>\n",
       "      <th>1</th>\n",
       "      <td>1</td>\n",
       "      <td>15.0</td>\n",
       "      <td>350.0</td>\n",
       "      <td>165.0</td>\n",
       "      <td>3693.0</td>\n",
       "      <td>1.0</td>\n",
       "    </tr>\n",
       "    <tr>\n",
       "      <th>2</th>\n",
       "      <td>2</td>\n",
       "      <td>18.0</td>\n",
       "      <td>318.0</td>\n",
       "      <td>150.0</td>\n",
       "      <td>3436.0</td>\n",
       "      <td>1.0</td>\n",
       "    </tr>\n",
       "    <tr>\n",
       "      <th>3</th>\n",
       "      <td>3</td>\n",
       "      <td>16.0</td>\n",
       "      <td>304.0</td>\n",
       "      <td>150.0</td>\n",
       "      <td>3433.0</td>\n",
       "      <td>1.0</td>\n",
       "    </tr>\n",
       "    <tr>\n",
       "      <th>4</th>\n",
       "      <td>4</td>\n",
       "      <td>17.0</td>\n",
       "      <td>302.0</td>\n",
       "      <td>140.0</td>\n",
       "      <td>3449.0</td>\n",
       "      <td>1.0</td>\n",
       "    </tr>\n",
       "  </tbody>\n",
       "</table>\n",
       "</div>"
      ],
      "text/plain": [
       "   customer_id   mpg  displacement  horsepower  weight  origin\n",
       "0            0  18.0         307.0       130.0  3504.0     1.0\n",
       "1            1  15.0         350.0       165.0  3693.0     1.0\n",
       "2            2  18.0         318.0       150.0  3436.0     1.0\n",
       "3            3  16.0         304.0       150.0  3433.0     1.0\n",
       "4            4  17.0         302.0       140.0  3449.0     1.0"
      ]
     },
     "execution_count": 48,
     "metadata": {},
     "output_type": "execute_result"
    }
   ],
   "source": [
    "# defining the column names\n",
    "cols_car = ['mpg','cylinders','displacement','horsepower','weight',\n",
    "                'acceleration', 'model year', 'origin']\n",
    " \n",
    "# Read the training data file using pandas\n",
    "df = pd.read_csv('./data/data.csv', names=cols_car, na_values = \"?\",\n",
    "                comment = '\\t',\n",
    "                sep= \" \",\n",
    "                skipinitialspace=True)\n",
    "\n",
    "# Sub list of feature neames that will be used in Model Monitoring. \n",
    "# You may not need to monitor every single column in the original dataset for drift.\n",
    "\n",
    "df = df[[\"mpg\", \"displacement\", \"horsepower\", \"weight\", \"origin\"]]\n",
    "df.reset_index(inplace=True)\n",
    "df.rename(columns={'index':'customer_id'}, inplace=True)\n",
    "\n",
    "# Make a copy of the dataframe\n",
    "data = df.copy()\n",
    " \n",
    "# imputing the values with median (due to presence of outliers)\n",
    "median = data.iloc[:,3].median()\n",
    "data.iloc[:,3] = data.iloc[:,3].fillna(median)\n",
    "data.info()\n",
    " \n",
    "training_df = data\n",
    " \n",
    "training_df['origin'] = training_df['origin'].astype(float)\n",
    "\n",
    "training_df.head()"
   ]
  },
  {
   "cell_type": "code",
   "execution_count": 49,
   "id": "ad506f07-a787-4956-b466-238c5f060668",
   "metadata": {},
   "outputs": [
    {
     "name": "stdout",
     "output_type": "stream",
     "text": [
      "TrainingSetVersion auto-prediction-training-data-dave_heinicke-64d53362612d3a70a8060b0a:3\n"
     ]
    }
   ],
   "source": [
    "tsv = TrainingSetClient.create_training_set_version(\n",
    "    training_set_name=\"auto-prediction-training-data-{}-{}\".format(os.environ['DOMINO_PROJECT_OWNER'], os.environ['DOMINO_PROJECT_ID']),\n",
    "    df=training_df,\n",
    "    key_columns=['customer_id'],\n",
    "    target_columns=[\"mpg\"],\n",
    "    exclude_columns=[],\n",
    "    meta={\"meta_data\": \"1\"},\n",
    "    monitoring_meta=model.MonitoringMeta(**{\n",
    "        \"categorical_columns\": [],\n",
    "        \"timestamp_columns\": [],\n",
    "        \"ordinal_columns\": []\n",
    "    }),\n",
    "    project_name=os.environ['DOMINO_PROJECT_NAME']\n",
    ")\n",
    " \n",
    "print(f\"TrainingSetVersion {tsv.training_set_name}:{tsv.number}\")"
   ]
  },
  {
   "cell_type": "code",
   "execution_count": 50,
   "id": "dfb7257c-8048-443d-be5c-98e0303f861f",
   "metadata": {},
   "outputs": [
    {
     "name": "stdout",
     "output_type": "stream",
     "text": [
      "Columns:  ['customer_id', 'mpg', 'displacement', 'horsepower', 'weight', 'origin']\n",
      "\n",
      "Data Types:\n",
      "\n",
      " customer_id       int64\n",
      "mpg             float64\n",
      "displacement    float64\n",
      "horsepower      float64\n",
      "weight          float64\n",
      "origin          float64\n",
      "dtype: object\n"
     ]
    }
   ],
   "source": [
    "# Check the TrainingSet Columns and Data Types\n",
    "\n",
    "print(\"Columns: \", tsv.all_columns)\n",
    "\n",
    "print(\"\\nData Types:\\n\\n\", tsv.load_raw_pandas().dtypes)"
   ]
  },
  {
   "cell_type": "code",
   "execution_count": 54,
   "id": "313628c2-bc3e-481c-b184-c4850cbc470d",
   "metadata": {},
   "outputs": [
    {
     "name": "stdout",
     "output_type": "stream",
     "text": [
      "[TrainingSetVersion(training_set_name='auto-prediction-training-data-dave_heinicke-64d53362612d3a70a8060b0a', number=1, description=<training_set_api_client.types.Unset object at 0x7fd788c5bfd0>, key_columns=['customer_id'], target_columns=['mpg'], exclude_columns=[], all_columns=['customer_id', 'mpg', 'displacement', 'horsepower', 'weight', 'origin'], monitoring_meta=MonitoringMeta(timestamp_columns=[], categorical_columns=[], ordinal_columns=[]), meta={'meta_data': '1'}, path='/trainingset/64d53362612d3a70a8060b0a/64d55dcc612d3a70a8060bed/64d55dcc612d3a70a8060bee', container_path='64d55dcc612d3a70a8060bed/64d55dcc612d3a70a8060bee', pending=False), TrainingSetVersion(training_set_name='auto-prediction-training-data-dave_heinicke-64d53362612d3a70a8060b0a', number=2, description=<training_set_api_client.types.Unset object at 0x7fd788c5bfd0>, key_columns=['customer_id'], target_columns=['mpg'], exclude_columns=[], all_columns=['customer_id', 'mpg', 'displacement', 'horsepower', 'weight', 'origin'], monitoring_meta=MonitoringMeta(timestamp_columns=[], categorical_columns=[], ordinal_columns=[]), meta={'meta_data': '1'}, path='/trainingset/64d53362612d3a70a8060b0a/64d55dcc612d3a70a8060bed/64d55e44612d3a70a8060bef', container_path='64d55dcc612d3a70a8060bed/64d55e44612d3a70a8060bef', pending=False), TrainingSetVersion(training_set_name='auto-prediction-training-data-dave_heinicke-64d53362612d3a70a8060b0a', number=3, description=<training_set_api_client.types.Unset object at 0x7fd788c5bfd0>, key_columns=['customer_id'], target_columns=['mpg'], exclude_columns=[], all_columns=['customer_id', 'mpg', 'displacement', 'horsepower', 'weight', 'origin'], monitoring_meta=MonitoringMeta(timestamp_columns=[], categorical_columns=[], ordinal_columns=[]), meta={'meta_data': '1'}, path='/trainingset/64d53362612d3a70a8060b0a/64d55dcc612d3a70a8060bed/64d55e82b5c13e02c7ddc62f', container_path='64d55dcc612d3a70a8060bed/64d55e82b5c13e02c7ddc62f', pending=False)]\n"
     ]
    }
   ],
   "source": [
    "# Review existing TraininSets in your Project\n",
    "\n",
    "versions = TrainingSetClient.list_training_set_versions(\n",
    "    training_set_name=\"auto-prediction-training-data-{}-{}\".format(os.environ['DOMINO_PROJECT_OWNER'], os.environ['DOMINO_PROJECT_ID']),\n",
    "    meta={\"meta_data\": \"1\"},\n",
    ")\n",
    "\n",
    "print(versions)"
   ]
  },
  {
   "cell_type": "code",
   "execution_count": null,
   "id": "4a1d75ab-ad94-42fc-b00e-f4651b433cba",
   "metadata": {},
   "outputs": [],
   "source": []
  }
 ],
 "metadata": {
  "kernelspec": {
   "display_name": "Python 3 (ipykernel)",
   "language": "python",
   "name": "python3"
  },
  "language_info": {
   "codemirror_mode": {
    "name": "ipython",
    "version": 3
   },
   "file_extension": ".py",
   "mimetype": "text/x-python",
   "name": "python",
   "nbconvert_exporter": "python",
   "pygments_lexer": "ipython3",
   "version": "3.8.12"
  }
 },
 "nbformat": 4,
 "nbformat_minor": 5
}
